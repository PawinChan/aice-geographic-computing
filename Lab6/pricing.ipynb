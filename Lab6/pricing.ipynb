{
 "cells": [
  {
   "cell_type": "code",
   "execution_count": 2,
   "metadata": {},
   "outputs": [],
   "source": [
    "import httpx, bs4"
   ]
  },
  {
   "cell_type": "code",
   "execution_count": 3,
   "metadata": {},
   "outputs": [],
   "source": [
    "\n",
    "response = httpx.get('https://gasprice.kapook.com/gasprice.php#pure').text"
   ]
  },
  {
   "cell_type": "code",
   "execution_count": 4,
   "metadata": {},
   "outputs": [],
   "source": [
    "def get_fuel_price():\n",
    "  import httpx, bs4\n",
    "\n",
    "  response = httpx.get('https://gasprice.kapook.com/gasprice.php').text\n",
    "\n",
    "  page = bs4.BeautifulSoup(response, 'html.parser')\n",
    "\n",
    "  allData = {}\n",
    "  for section in page.select('.gasprice'):\n",
    "    brand = section.select_one('h3').text[11:]\n",
    "    brandData = {}\n",
    "\n",
    "    for row in section.select('li'):\n",
    "      type = row.select_one('span').text.strip()\n",
    "      price = row.select_one('em').text.strip()\n",
    "      brandData[type] = price\n",
    "    \n",
    "    allData[brand] = brandData\n",
    "  return brandData"
   ]
  },
  {
   "cell_type": "code",
   "execution_count": 9,
   "metadata": {},
   "outputs": [],
   "source": []
  },
  {
   "cell_type": "code",
   "execution_count": 10,
   "metadata": {},
   "outputs": [
    {
     "data": {
      "text/plain": [
       "{' ปตท. (ptt)': {'แก๊สโซฮอล์ 95': '38.85',\n",
       "  'แก๊สโซฮอล์ E20': '36.74',\n",
       "  'แก๊สโซฮอล์ E85': '36.49',\n",
       "  'แก๊สโซฮอล์ 91': '38.48',\n",
       "  'เบนซิน 95': '46.74',\n",
       "  'ดีเซลพรีเมียม': '44.94',\n",
       "  'ดีเซล': '32.94',\n",
       "  'ดีเซลหมุนเร็ว': '32.94',\n",
       "  'ซูเปอร์พาวเวอร์ แก๊สโซฮอล์ 95': '47.44',\n",
       "  'แก๊สโซฮอล์ 95 พรีเมียม': '47.44'},\n",
       " 'บางจาก (bcp)': {'แก๊สโซฮอล์ 95': '38.85',\n",
       "  'แก๊สโซฮอล์ E20': '36.74',\n",
       "  'แก๊สโซฮอล์ E85': '36.49',\n",
       "  'แก๊สโซฮอล์ 91': '38.48',\n",
       "  'ดีเซลพรีเมียม': '47.14',\n",
       "  'ดีเซล': '32.94',\n",
       "  'แก๊สโซฮอล์ 95 พรีเมียม': '49.84',\n",
       "  'แก๊สโซฮอล์ 97 พรีเมียม': '49.84'},\n",
       " 'เชลล์ (shell)': {'แก๊สโซฮอล์ 95': '39.25',\n",
       "  'แก๊สโซฮอล์ E20': '37.14',\n",
       "  'แก๊สโซฮอล์ 91': '38.88',\n",
       "  'ดีเซลพรีเมียม': '49.84',\n",
       "  'เชลล์ วี-เพาเวอร์ แก๊สโซฮอล์ 95': '49.84',\n",
       "  'ดีเซล': '33.24',\n",
       "  'เชลล์ ฟิวเซฟ ดีเซล': '33.24',\n",
       "  'เชลล์ วี-เพาเวอร์ ดีเซล': '49.84',\n",
       "  'แก๊สโซฮอล์ 95 พรีเมียม': '49.84'},\n",
       " 'เอสโซ่ (esso)': {'แก๊สโซฮอล์ 95': '38.85',\n",
       "  'แก๊สโซฮอล์ E20': '36.74',\n",
       "  'แก๊สโซฮอล์ 91': '38.48',\n",
       "  'ดีเซลพรีเมียม': '47.14',\n",
       "  'ดีเซล': '32.94',\n",
       "  'แก๊สโซฮอล์ 95 พรีเมียม': '49.84'},\n",
       " 'คาลเท็กซ์ (caltex)': {'แก๊สโซฮอล์ 95': '38.85',\n",
       "  'แก๊สโซฮอล์ E20': '36.74',\n",
       "  'แก๊สโซฮอล์ 91': '38.48',\n",
       "  'เบนซิน 95': '49.81',\n",
       "  'ดีเซลพรีเมียม': '47.14',\n",
       "  'ดีเซล': '32.94',\n",
       "  'ดีเซลหมุนเร็ว': '32.94'},\n",
       " 'ไออาร์พีซี (irpc)': {'แก๊สโซฮอล์ 95': '38.85',\n",
       "  'แก๊สโซฮอล์ 91': '38.48',\n",
       "  'ดีเซล': '32.94'},\n",
       " 'พีที (pt)': {'แก๊สโซฮอล์ 95': '38.85',\n",
       "  'แก๊สโซฮอล์ E20': '36.74',\n",
       "  'แก๊สโซฮอล์ 91': '38.48',\n",
       "  'เบนซิน 95': '47.24',\n",
       "  'ดีเซล': '32.94'},\n",
       " 'ซัสโก้ (susco)': {'แก๊สโซฮอล์ 95': '38.85',\n",
       "  'แก๊สโซฮอล์ E20': '36.74',\n",
       "  'แก๊สโซฮอล์ 91': '38.48',\n",
       "  'เบนซิน 95': '46.89',\n",
       "  'แก๊ส NGV': '19.59',\n",
       "  'ดีเซล': '32.94'},\n",
       " 'เพียว (pure)': {'แก๊สโซฮอล์ 95': '38.85',\n",
       "  'แก๊สโซฮอล์ E20': '36.74',\n",
       "  'แก๊สโซฮอล์ 91': '38.48',\n",
       "  'ดีเซล': '32.94'},\n",
       " 'ซัสโก้ ดีลเลอร์ (suscodealers)': {'แก๊สโซฮอล์ 95': '38.85',\n",
       "  'แก๊สโซฮอล์ E20': '36.74',\n",
       "  'แก๊สโซฮอล์ 91': '38.48',\n",
       "  'เบนซิน 95': '46.89',\n",
       "  'ดีเซล': '32.94'}}"
      ]
     },
     "execution_count": 10,
     "metadata": {},
     "output_type": "execute_result"
    }
   ],
   "source": [
    "allData"
   ]
  },
  {
   "cell_type": "code",
   "execution_count": null,
   "metadata": {},
   "outputs": [],
   "source": []
  }
 ],
 "metadata": {
  "kernelspec": {
   "display_name": "Python 3",
   "language": "python",
   "name": "python3"
  },
  "language_info": {
   "codemirror_mode": {
    "name": "ipython",
    "version": 3
   },
   "file_extension": ".py",
   "mimetype": "text/x-python",
   "name": "python",
   "nbconvert_exporter": "python",
   "pygments_lexer": "ipython3",
   "version": "3.10.12"
  }
 },
 "nbformat": 4,
 "nbformat_minor": 2
}
